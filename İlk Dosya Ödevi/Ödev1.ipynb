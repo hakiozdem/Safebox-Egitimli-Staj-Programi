{
 "cells": [
  {
   "cell_type": "code",
   "execution_count": 1,
   "id": "f4e8b7ed",
   "metadata": {},
   "outputs": [
    {
     "name": "stdout",
     "output_type": "stream",
     "text": [
      "1-Kayıt,2-Giriş,3-Çıkış2\n",
      "Kullanici adını girin: haktan\n",
      "Kullanici sifresini girin: haktan\n",
      "Hoş Geldin,  haktan\n",
      "1-Kayıt,2-Giriş,3-Çıkış3\n",
      "Çıkış yapılıyor\n"
     ]
    }
   ],
   "source": [
    "def kullanici_kayit():\n",
    "    kullanici_bilgi = {}\n",
    "    kullanici_adi = input(\"Kullanici adını girin: \")\n",
    "    kullanici_sifre = input(\"Kullanici sifresini girin: \")\n",
    "    kullanici_bilgi[\"kullanici_adi\"]=kullanici_adi\n",
    "    kullanici_bilgi[\"kullanici_sifre\"]=kullanici_sifre\n",
    "    with open(\"kullanici_bilgileri.txt\",\"a\") as f:\n",
    "        f.write(kullanici_bilgi[\"kullanici_adi\"]+\",\"+kullanici_bilgi[\"kullanici_sifre\"]+\"\\n\")\n",
    "    print(\"kullanıcı kayıt edildi\")\n",
    "\n",
    "def kullanici_giris():\n",
    "    #kullanıcıdan giriş bilgilerini alıyoruz\n",
    "    kullanici_adi = input(\"Kullanici adını girin: \")\n",
    "    kullanici_sifre = input(\"Kullanici sifresini girin: \")\n",
    "    #tüm kullanıcıları alma\n",
    "    file = open(\"kullanici_bilgileri.txt\",\"r\")\n",
    "    full_list = file.readlines()\n",
    "    file.close()\n",
    "    giris_basarili_mi=False\n",
    "    #tek satırın bilgileriyle kontrol sağlama\n",
    "    for i in range(len(full_list)):\n",
    "        temp_list=full_list[i].split(\",\")\n",
    "        if temp_list[0]==kullanici_adi and temp_list[1].replace(\"\\n\",\"\")==kullanici_sifre: #burada minik bir detay var, listede veriyi \"haktan,haktan\\n\" olarak alıyor. \\n gitmeli\n",
    "            giris_basarili_mi= True\n",
    "    \n",
    "    if giris_basarili_mi:\n",
    "        print(\"Hoş Geldin, \",kullanici_adi)\n",
    "    else:\n",
    "        print(\"Gecersiz Hesap Bilgileri\")\n",
    "\n",
    "while True:\n",
    "    secim = int(input(\"1-Kayıt,2-Giriş,3-Çıkış\"))\n",
    "    \n",
    "    if secim == 1:\n",
    "        kullanici_kayit()\n",
    "\n",
    "    elif secim == 2:\n",
    "        kullanici_giris()\n",
    "        \n",
    "    elif secim == 3:\n",
    "        print(\"Çıkış yapılıyor\")\n",
    "        break\n",
    "        \n",
    "    else:\n",
    "        print(\"Yanlış seçim yaptınız\")"
   ]
  },
  {
   "cell_type": "code",
   "execution_count": null,
   "id": "b00e4913",
   "metadata": {},
   "outputs": [],
   "source": []
  }
 ],
 "metadata": {
  "kernelspec": {
   "display_name": "Python 3 (ipykernel)",
   "language": "python",
   "name": "python3"
  },
  "language_info": {
   "codemirror_mode": {
    "name": "ipython",
    "version": 3
   },
   "file_extension": ".py",
   "mimetype": "text/x-python",
   "name": "python",
   "nbconvert_exporter": "python",
   "pygments_lexer": "ipython3",
   "version": "3.10.9"
  }
 },
 "nbformat": 4,
 "nbformat_minor": 5
}
