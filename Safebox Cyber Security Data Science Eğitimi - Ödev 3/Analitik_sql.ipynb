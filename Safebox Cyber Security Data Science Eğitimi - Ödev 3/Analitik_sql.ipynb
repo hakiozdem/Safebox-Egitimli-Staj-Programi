{
 "cells": [
  {
   "attachments": {},
   "cell_type": "markdown",
   "id": "bd114a25",
   "metadata": {},
   "source": [
    "# Analitik SQL\n"
   ]
  },
  {
   "attachments": {},
   "cell_type": "markdown",
   "id": "9db84af8",
   "metadata": {},
   "source": [
    "Analitik SQL Sorguları karmaşık işlemler yapabilmek ve veriyi daha iyi işleyebilmek için kullanılır. Verinin işlenerek istatistiksel veri olarak kullanılması, çoklu verilerin daha kullanılabilir ve anlamlı şekillere getirilmesi gibi de açıklayabiliriz. Bu tür sorgular genellikle büyük veri kümeleri üzerinde çalışır ve çeşitli işlevler ve operatörler kullanarak verileri filtreler, sıralar, gruplar, toplar ve birleştirir."
   ]
  },
  {
   "attachments": {},
   "cell_type": "markdown",
   "id": "f28b91cc",
   "metadata": {},
   "source": [
    "Yapısında Aggregate fonksiyonlarını barındırır. Bunlar:\n",
    "- <b>COUNT</b>: Kaç adet vardır?\n",
    "- <b>SUM</b>: Toplam\n",
    "- <b>AVG</b>: Ortalaması\n",
    "- <b>MIN</b>: Minimum\n",
    "- <b>MAX</b>: Maximum\n",
    "\n",
    "Olarak listelenebilir. Bunlar haricinde gruplama yapmaya yarayan <b>group by</b>, düzene sokmak için <b>order by</b>, birleştirme işlemleri için <b>join</b> ve filtreleme işlemleri içim <b>where</b> anahtar kelimesi kullanılır.\n"
   ]
  },
  {
   "attachments": {},
   "cell_type": "markdown",
   "id": "f51f1fce",
   "metadata": {},
   "source": [
    "## Örnek\n"
   ]
  },
  {
   "attachments": {},
   "cell_type": "markdown",
   "id": "3db4119e",
   "metadata": {},
   "source": [
    "Örneğin elimizde bir DVD Kiralama ile ilgili bir veri tabanı olsun. Bu veri tabanında filmler, filmlerde oynayan aktörler ve bu tabloyu birleştirmemize yarayan bir ek tablo daha olsun. Bir sorgu ile hangi filmde kaç tane aktörün oynadığını bir sorgu ile bulabilmemiz için bu aggregate fonksiyonlarını kullanıyoruz. Öncelikle aktör ve film verilerinin olduğu tablo ile filmler tablosunu birleştirip, tekrarsız bir şekilde filmlere göre aktör sayılarını çekeceğiz."
   ]
  },
  {
   "attachments": {},
   "cell_type": "markdown",
   "id": "2f8e191e",
   "metadata": {},
   "source": [
    "Örneğin Sorgusu:"
   ]
  },
  {
   "attachments": {},
   "cell_type": "markdown",
   "id": "cdebf2e1",
   "metadata": {},
   "source": [
    "> select distinct title, description, count(actor_id) as how_many_actors_played from film \n",
    ">inner join film_actor on film.film_id = film_actor.film_id\n",
    ">group by title, description\n",
    ">order by title"
   ]
  },
  {
   "attachments": {},
   "cell_type": "markdown",
   "id": "cf6a9020",
   "metadata": {},
   "source": [
    "### Kaynaklarda Farklılıklar\n"
   ]
  },
  {
   "attachments": {},
   "cell_type": "markdown",
   "id": "3c226744",
   "metadata": {},
   "source": [
    "Burada bazı kaynaklarda veya SQL dillerinde minik farklılıklar bulunmaktadır. Kimi kaynakta analitik sql için aggregate fonksiyonlar sadece kabul edilirken, kimi kaynakta özellikle <b>Over</b> anahtar kelimesinin kullanılmasının gerektiğini belirtirler. “Over”, “group by” yerine kullanılır. Aralarında şu tarz bir fark vardır: “Group By” her bir grup için bir satır üretirken, “over” toplam satır sayısını değiştirmez şeklinde açıklanabilir."
   ]
  },
  {
   "attachments": {},
   "cell_type": "markdown",
   "id": "266b9429",
   "metadata": {},
   "source": [
    "\"Over\" ile yazılmış aynı sorgu:"
   ]
  },
  {
   "attachments": {},
   "cell_type": "markdown",
   "id": "58effa88",
   "metadata": {},
   "source": [
    ">select distinct title, description, count(actor_id) over (partition by title) as how_many_actors_played from film inner join film_actor on film.film_id = film_actor.film_id"
   ]
  },
  {
   "attachments": {},
   "cell_type": "markdown",
   "id": "1cca8001",
   "metadata": {},
   "source": [
    "İki sorgu da aynı sonucu verecektir."
   ]
  },
  {
   "attachments": {},
   "cell_type": "markdown",
   "id": "fee910e9",
   "metadata": {},
   "source": [
    "Kaynaklar:\n",
    "\n",
    "- https://emrahmete.wordpress.com/2014/05/01/oracle-analitik-fonksiyonlar/\n",
    "- https://medium.com/@gulcanogundur/advanced-sql-fonksiyonlar%C4%B1-window-functions-b0c13c72be39"
   ]
  },
  {
   "attachments": {},
   "cell_type": "markdown",
   "id": "624dae7e",
   "metadata": {},
   "source": [
    "## Cascade Virüsü\n",
    "1980-1990 yıllarında etkili olmuş bir virüstür. O zamanlarda yazılan çoğu virüs gibi aslında şaka amaçlı yazılmıştır, .COM dosyalarına etkilidir. Virüs bulaştığı dosyada etkinleştiği zaman yazan çoğu şeyin bir şelale gibi aşağı inip en alttaki heap yapısına eklenmesi ile kullanıcıyı sinir eder. Şu anda etkin olarak kullanılan bir virüs değildir çünkü çoğu antivirüs bu virüse çözüm bulmuştur.\n",
    "\n",
    "Tam olarak virüs özelliği aslında iki parçadan oluşur: Virüs bedeni ve Şifreleme rutini. Öncelikle virüs bulaşan her dosya için virüs gövdesi ayrıca şifreleniyor. Daha sonra dosyanın kontrolünü alınca dosyayı da şifreliyor. Anahtar olarak virüs bulaşan dosyanın dosya boyutu kullanılır, bu sebeple tüm antivirüsler çabucak saptayabilir\n",
    "\n",
    "Aslen Almanya’dan çıkan bu virüsün zamanında Yugoslavya da oluşmuş CASCADE – 17Y4 gibi 1704 byte’lık bir varyantı da vardır. Bunun haricinde Jo-Jo (şifelemesiz), YAP (saptanmasını zorlaştıran bazı modifikasyonlara sahip), Formiche (6000 byte lık en büyük dosya boyutlu varyantı) gibi varyantları vardır.\n"
   ]
  }
 ],
 "metadata": {
  "kernelspec": {
   "display_name": "Python 3 (ipykernel)",
   "language": "python",
   "name": "python3"
  },
  "language_info": {
   "codemirror_mode": {
    "name": "ipython",
    "version": 3
   },
   "file_extension": ".py",
   "mimetype": "text/x-python",
   "name": "python",
   "nbconvert_exporter": "python",
   "pygments_lexer": "ipython3",
   "version": "3.10.9"
  }
 },
 "nbformat": 4,
 "nbformat_minor": 5
}
